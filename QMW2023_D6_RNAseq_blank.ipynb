{
  "nbformat": 4,
  "nbformat_minor": 0,
  "metadata": {
    "colab": {
      "provenance": []
    },
    "kernelspec": {
      "name": "python3",
      "display_name": "Python 3"
    },
    "language_info": {
      "name": "python"
    }
  },
  "cells": [
    {
      "cell_type": "markdown",
      "source": [
        "# Quantitative Methods Workshop, Day 6\n",
        "## Bulk (Part 1) and Single-Cell (Part 2) RNA Sequencing\n",
        "By Giselle Valdes and Julian Stanley"
      ],
      "metadata": {
        "id": "FRbxO1RUAB0c"
      }
    },
    {
      "cell_type": "markdown",
      "source": [
        "### Introductory Note\n",
        "\n",
        "**If you haven't already, please hit :**\n",
        "\n",
        "`File` -> `Save a Copy in Drive`\n",
        "\n",
        "**to copy this notebook to your Google drive, and work on a copy. If you don't do this, your changes won't be saved!**"
      ],
      "metadata": {
        "id": "l_bZAzyGBadU"
      }
    },
    {
      "cell_type": "markdown",
      "source": [
        "## Part 1: Bulk RNA-Seq from M1 and M2 Macrophages\n",
        "Written by Julian Stanley"
      ],
      "metadata": {
        "id": "P4t0aX_WAGMi"
      }
    },
    {
      "cell_type": "markdown",
      "source": [
        "You've made it to the last day of the QMW, congratulations!\n",
        "\n",
        "We're going to be doing some analysis with Python and Pandas and making some plots with Matplotlib and Seaborn. \n",
        "\n",
        "Just like previous days, let's make sure we have all those packages loaded:"
      ],
      "metadata": {
        "id": "ruvsxbEuBD-h"
      }
    },
    {
      "cell_type": "code",
      "source": [
        "# set up environment\n",
        "\n",
        "# Make Sure Packages are Installed\n",
        "!pip3 install pandas\n",
        "!pip3 install matplotlib\n",
        "!pip3 install numpy\n",
        "!pip3 install seaborn\n",
        "\n",
        "# Import packages\n",
        "import pandas as pd\n",
        "import numpy as np\n",
        "import matplotlib\n",
        "from matplotlib import pyplot as plt\n",
        "import seaborn as sns\n",
        "\n",
        "# Set Plotting Presets\n",
        "plt.rcParams['figure.figsize'] = [15, 5]\n",
        "plt.rcParams.update({'font.size': 14})\n",
        "\n",
        "# Here's the URL where I uploaded the data we'll be working with\n",
        "bulkRNAseq_file_location = 'https://raw.githubusercontent.com/julianstanley/QMW2023_BulkRNASeq/main/data/simplified_data_He2021.csv'\n",
        "bulkRNAseq_file_location_advanced = 'https://raw.githubusercontent.com/julianstanley/QMW2023_BulkRNASeq/main/data/full_data_S4_He2021.csv'"
      ],
      "metadata": {
        "id": "AbPL4vWIAz5C",
        "colab": {
          "base_uri": "https://localhost:8080/"
        },
        "outputId": "d90a779a-b086-4eb9-947d-6ea779f825f9"
      },
      "execution_count": null,
      "outputs": [
        {
          "output_type": "stream",
          "name": "stdout",
          "text": [
            "Looking in indexes: https://pypi.org/simple, https://us-python.pkg.dev/colab-wheels/public/simple/\n",
            "Requirement already satisfied: pandas in /usr/local/lib/python3.8/dist-packages (1.3.5)\n",
            "Requirement already satisfied: pytz>=2017.3 in /usr/local/lib/python3.8/dist-packages (from pandas) (2022.7)\n",
            "Requirement already satisfied: python-dateutil>=2.7.3 in /usr/local/lib/python3.8/dist-packages (from pandas) (2.8.2)\n",
            "Requirement already satisfied: numpy>=1.17.3 in /usr/local/lib/python3.8/dist-packages (from pandas) (1.21.6)\n",
            "Requirement already satisfied: six>=1.5 in /usr/local/lib/python3.8/dist-packages (from python-dateutil>=2.7.3->pandas) (1.15.0)\n",
            "Looking in indexes: https://pypi.org/simple, https://us-python.pkg.dev/colab-wheels/public/simple/\n",
            "Requirement already satisfied: matplotlib in /usr/local/lib/python3.8/dist-packages (3.2.2)\n",
            "Requirement already satisfied: cycler>=0.10 in /usr/local/lib/python3.8/dist-packages (from matplotlib) (0.11.0)\n",
            "Requirement already satisfied: python-dateutil>=2.1 in /usr/local/lib/python3.8/dist-packages (from matplotlib) (2.8.2)\n",
            "Requirement already satisfied: kiwisolver>=1.0.1 in /usr/local/lib/python3.8/dist-packages (from matplotlib) (1.4.4)\n",
            "Requirement already satisfied: pyparsing!=2.0.4,!=2.1.2,!=2.1.6,>=2.0.1 in /usr/local/lib/python3.8/dist-packages (from matplotlib) (3.0.9)\n",
            "Requirement already satisfied: numpy>=1.11 in /usr/local/lib/python3.8/dist-packages (from matplotlib) (1.21.6)\n",
            "Requirement already satisfied: six>=1.5 in /usr/local/lib/python3.8/dist-packages (from python-dateutil>=2.1->matplotlib) (1.15.0)\n",
            "Looking in indexes: https://pypi.org/simple, https://us-python.pkg.dev/colab-wheels/public/simple/\n",
            "Requirement already satisfied: numpy in /usr/local/lib/python3.8/dist-packages (1.21.6)\n",
            "Looking in indexes: https://pypi.org/simple, https://us-python.pkg.dev/colab-wheels/public/simple/\n",
            "Requirement already satisfied: seaborn in /usr/local/lib/python3.8/dist-packages (0.11.2)\n",
            "Requirement already satisfied: scipy>=1.0 in /usr/local/lib/python3.8/dist-packages (from seaborn) (1.7.3)\n",
            "Requirement already satisfied: numpy>=1.15 in /usr/local/lib/python3.8/dist-packages (from seaborn) (1.21.6)\n",
            "Requirement already satisfied: pandas>=0.23 in /usr/local/lib/python3.8/dist-packages (from seaborn) (1.3.5)\n",
            "Requirement already satisfied: matplotlib>=2.2 in /usr/local/lib/python3.8/dist-packages (from seaborn) (3.2.2)\n",
            "Requirement already satisfied: kiwisolver>=1.0.1 in /usr/local/lib/python3.8/dist-packages (from matplotlib>=2.2->seaborn) (1.4.4)\n",
            "Requirement already satisfied: pyparsing!=2.0.4,!=2.1.2,!=2.1.6,>=2.0.1 in /usr/local/lib/python3.8/dist-packages (from matplotlib>=2.2->seaborn) (3.0.9)\n",
            "Requirement already satisfied: python-dateutil>=2.1 in /usr/local/lib/python3.8/dist-packages (from matplotlib>=2.2->seaborn) (2.8.2)\n",
            "Requirement already satisfied: cycler>=0.10 in /usr/local/lib/python3.8/dist-packages (from matplotlib>=2.2->seaborn) (0.11.0)\n",
            "Requirement already satisfied: pytz>=2017.3 in /usr/local/lib/python3.8/dist-packages (from pandas>=0.23->seaborn) (2022.7)\n",
            "Requirement already satisfied: six>=1.5 in /usr/local/lib/python3.8/dist-packages (from python-dateutil>=2.1->matplotlib>=2.2->seaborn) (1.15.0)\n"
          ]
        }
      ]
    },
    {
      "cell_type": "markdown",
      "source": [
        "### Part 1a: Load and view data\n",
        "\n",
        "Load the data from the url given in `bulkRNAseq_file_location` into a Pandas dataframe using `pd.read_csv`. Assign it to a variable called `macrophage_fpkm`.\n",
        "\n",
        "Then, display the first five rows of the dataframe using `macrophage_fpkm.head()`."
      ],
      "metadata": {
        "id": "Y_pOe-2PBmkZ"
      }
    },
    {
      "cell_type": "code",
      "source": [],
      "metadata": {
        "id": "WkTqOiWIBscV"
      },
      "execution_count": null,
      "outputs": []
    },
    {
      "cell_type": "code",
      "source": [
        "pd.DataFrame([1,2,3,4,5,6]).hist()"
      ],
      "metadata": {
        "colab": {
          "base_uri": "https://localhost:8080/",
          "height": 379
        },
        "id": "Tl2IXIjqvXVP",
        "outputId": "46f43e31-e502-4c64-d4f4-c34d5a0e19bf"
      },
      "execution_count": null,
      "outputs": [
        {
          "output_type": "execute_result",
          "data": {
            "text/plain": [
              "array([[<matplotlib.axes._subplots.AxesSubplot object at 0x7fd5bc8bd550>]],\n",
              "      dtype=object)"
            ]
          },
          "metadata": {},
          "execution_count": 5
        },
        {
          "output_type": "display_data",
          "data": {
            "text/plain": [
              "<Figure size 1080x360 with 1 Axes>"
            ],
            "image/png": "[encoded data removed]"
          },
          "metadata": {
            "needs_background": "light"
          }
        }
      ]
    },
    {
      "cell_type": "code",
      "source": [],
      "metadata": {
        "id": "pPcxNz7MCT0P",
        "colab": {
          "base_uri": "https://localhost:8080/",
          "height": 206
        },
        "outputId": "45302f22-c4d4-42bf-beb3-f3168ef654fe"
      },
      "execution_count": null,
      "outputs": [
        {
          "output_type": "execute_result",
          "data": {
            "text/plain": [
              "       Gene   immature          A          B\n",
              "0    TSPAN6   0.070621   0.106641   0.162144\n",
              "1      TNMD   0.000000   0.000000   0.000000\n",
              "2      DPM1  20.280869  21.577955  24.723890\n",
              "3     SCYL3   1.498799   3.859121   1.867398\n",
              "4  C1orf112   1.032787   1.513904   1.707875"
            ],
            "text/html": [
              "\n",
              "  <div id=\"df-d14c3bee-5566-4883-9026-e85de3498619\">\n",
              "    <div class=\"colab-df-container\">\n",
              "      <div>\n",
              "<style scoped>\n",
              "    .dataframe tbody tr th:only-of-type {\n",
              "        vertical-align: middle;\n",
              "    }\n",
              "\n",
              "    .dataframe tbody tr th {\n",
              "        vertical-align: top;\n",
              "    }\n",
              "\n",
              "    .dataframe thead th {\n",
              "        text-align: right;\n",
              "    }\n",
              "</style>\n",
              "<table border=\"1\" class=\"dataframe\">\n",
              "  <thead>\n",
              "    <tr style=\"text-align: right;\">\n",
              "      <th></th>\n",
              "      <th>Gene</th>\n",
              "      <th>immature</th>\n",
              "      <th>A</th>\n",
              "      <th>B</th>\n",
              "    </tr>\n",
              "  </thead>\n",
              "  <tbody>\n",
              "    <tr>\n",
              "      <th>0</th>\n",
              "      <td>TSPAN6</td>\n",
              "      <td>0.070621</td>\n",
              "      <td>0.106641</td>\n",
              "      <td>0.162144</td>\n",
              "    </tr>\n",
              "    <tr>\n",
              "      <th>1</th>\n",
              "      <td>TNMD</td>\n",
              "      <td>0.000000</td>\n",
              "      <td>0.000000</td>\n",
              "      <td>0.000000</td>\n",
              "    </tr>\n",
              "    <tr>\n",
              "      <th>2</th>\n",
              "      <td>DPM1</td>\n",
              "      <td>20.280869</td>\n",
              "      <td>21.577955</td>\n",
              "      <td>24.723890</td>\n",
              "    </tr>\n",
              "    <tr>\n",
              "      <th>3</th>\n",
              "      <td>SCYL3</td>\n",
              "      <td>1.498799</td>\n",
              "      <td>3.859121</td>\n",
              "      <td>1.867398</td>\n",
              "    </tr>\n",
              "    <tr>\n",
              "      <th>4</th>\n",
              "      <td>C1orf112</td>\n",
              "      <td>1.032787</td>\n",
              "      <td>1.513904</td>\n",
              "      <td>1.707875</td>\n",
              "    </tr>\n",
              "  </tbody>\n",
              "</table>\n",
              "</div>\n",
              "      <button class=\"colab-df-convert\" onclick=\"convertToInteractive('df-d14c3bee-5566-4883-9026-e85de3498619')\"\n",
              "              title=\"Convert this dataframe to an interactive table.\"\n",
              "              style=\"display:none;\">\n",
              "        \n",
              "  <svg xmlns=\"http://www.w3.org/2000/svg\" height=\"24px\"viewBox=\"0 0 24 24\"\n",
              "       width=\"24px\">\n",
              "    <path d=\"M0 0h24v24H0V0z\" fill=\"none\"/>\n",
              "    <path d=\"M18.56 5.44l.94 2.06.94-2.06 2.06-.94-2.06-.94-.94-2.06-.94 2.06-2.06.94zm-11 1L8.5 8.5l.94-2.06 2.06-.94-2.06-.94L8.5 2.5l-.94 2.06-2.06.94zm10 10l.94 2.06.94-2.06 2.06-.94-2.06-.94-.94-2.06-.94 2.06-2.06.94z\"/><path d=\"M17.41 7.96l-1.37-1.37c-.4-.4-.92-.59-1.43-.59-.52 0-1.04.2-1.43.59L10.3 9.45l-7.72 7.72c-.78.78-.78 2.05 0 2.83L4 21.41c.39.39.9.59 1.41.59.51 0 1.02-.2 1.41-.59l7.78-7.78 2.81-2.81c.8-.78.8-2.07 0-2.86zM5.41 20L4 18.59l7.72-7.72 1.47 1.35L5.41 20z\"/>\n",
              "  </svg>\n",
              "      </button>\n",
              "      \n",
              "  <style>\n",
              "    .colab-df-container {\n",
              "      display:flex;\n",
              "      flex-wrap:wrap;\n",
              "      gap: 12px;\n",
              "    }\n",
              "\n",
              "    .colab-df-convert {\n",
              "      background-color: #E8F0FE;\n",
              "      border: none;\n",
              "      border-radius: 50%;\n",
              "      cursor: pointer;\n",
              "      display: none;\n",
              "      fill: #1967D2;\n",
              "      height: 32px;\n",
              "      padding: 0 0 0 0;\n",
              "      width: 32px;\n",
              "    }\n",
              "\n",
              "    .colab-df-convert:hover {\n",
              "      background-color: #E2EBFA;\n",
              "      box-shadow: 0px 1px 2px rgba(60, 64, 67, 0.3), 0px 1px 3px 1px rgba(60, 64, 67, 0.15);\n",
              "      fill: #174EA6;\n",
              "    }\n",
              "\n",
              "    [theme=dark] .colab-df-convert {\n",
              "      background-color: #3B4455;\n",
              "      fill: #D2E3FC;\n",
              "    }\n",
              "\n",
              "    [theme=dark] .colab-df-convert:hover {\n",
              "      background-color: #434B5C;\n",
              "      box-shadow: 0px 1px 3px 1px rgba(0, 0, 0, 0.15);\n",
              "      filter: drop-shadow(0px 1px 2px rgba(0, 0, 0, 0.3));\n",
              "      fill: #FFFFFF;\n",
              "    }\n",
              "  </style>\n",
              "\n",
              "      <script>\n",
              "        const buttonEl =\n",
              "          document.querySelector('#df-d14c3bee-5566-4883-9026-e85de3498619 button.colab-df-convert');\n",
              "        buttonEl.style.display =\n",
              "          google.colab.kernel.accessAllowed ? 'block' : 'none';\n",
              "\n",
              "        async function convertToInteractive(key) {\n",
              "          const element = document.querySelector('#df-d14c3bee-5566-4883-9026-e85de3498619');\n",
              "          const dataTable =\n",
              "            await google.colab.kernel.invokeFunction('convertToInteractive',\n",
              "                                                     [key], {});\n",
              "          if (!dataTable) return;\n",
              "\n",
              "          const docLinkHtml = 'Like what you see? Visit the ' +\n",
              "            '<a target=\"_blank\" href=https://colab.research.google.com/notebooks/data_table.ipynb>data table notebook</a>'\n",
              "            + ' to learn more about interactive tables.';\n",
              "          element.innerHTML = '';\n",
              "          dataTable['output_type'] = 'display_data';\n",
              "          await google.colab.output.renderOutput(dataTable, element);\n",
              "          const docLink = document.createElement('div');\n",
              "          docLink.innerHTML = docLinkHtml;\n",
              "          element.appendChild(docLink);\n",
              "        }\n",
              "      </script>\n",
              "    </div>\n",
              "  </div>\n",
              "  "
            ]
          },
          "metadata": {},
          "execution_count": 3
        }
      ]
    },
    {
      "cell_type": "markdown",
      "source": [
        "You should see four columns: \"Gene\", \"immature\", \"A\", and \"B\".\n",
        "\n",
        "The \"Gene\" column is the gene of the RNA being quantified.\n",
        "\n",
        "The other columns are all FPKM-normalized RNA counts.\n",
        "\n",
        "* Immature are also called \"M0\" macrophages. These are RNA counts for early, undeveloped macrophages.\n",
        "\n",
        "\"A\" and \"B\" correspond to either M1 or M2 macrophages, but we can't remember which one goes with which. Next, we'll figure that out. \n",
        "\n",
        "Just remember that:\n",
        "* M1 macrophages (generally) activate inflammation.\n",
        "* M2 macrophages (generally) suppress inflammation."
      ],
      "metadata": {
        "id": "UqYZvtxrGENH"
      }
    },
    {
      "cell_type": "markdown",
      "source": [
        "### Part 1b: Plot M1 and M2 markers to determine the identify of samples A and B."
      ],
      "metadata": {
        "id": "ClTJG6L69MB6"
      }
    },
    {
      "cell_type": "markdown",
      "source": [
        "Let's figure out which of \"A\" and \"B\" are M1 or M2 macrophages.\n",
        "\n",
        "M1 and M2 cells have unique, so-called _marker_ genes. These are genes that have high RNA gene expression in each cell type under most conditions, so we can use them to identify these cells. \n",
        "\n",
        "The first gene is \"PPARG\", which _suppresses_ the production of pro-inflammatory \n",
        "compounds. \n",
        "\n",
        "**PPARG is a marker of anti-inflammatory, M2 macrophages**. That is, PPARG will have the highest RNA level in M2 macrophages. \n",
        "\n",
        "The second gene is \"CCR7\", which leads to the activation of other immune cells.\n",
        "\n",
        "\n",
        "**CCR7 is a marker of pro-inflammatory, M1 macrophages**. That is, CCR7 will have the highest RNA level in M1 macrophages. "
      ],
      "metadata": {
        "id": "S9WjOrAf_m0W"
      }
    },
    {
      "cell_type": "markdown",
      "source": [
        "First, create a new variable, named `genes_of_interest_fpkm` that \n",
        "takes `macrophage_fpkm` and filters it, on the \"Gene\" column, so that it only has rows with \"CCR7\" and \"PPARG\".\n",
        "\n",
        "Hint: To filter a dataframe, called `data`, on the \"Gene\" column, so that it only has rows with \"GeneA\", and \"GeneB\", you could type:\n",
        "`genes_of_interest = data[data[\"Gene\"].isin([\"GeneA\", \"GeneB\"])`"
      ],
      "metadata": {
        "id": "RReneYeYCpkt"
      }
    },
    {
      "cell_type": "code",
      "source": [],
      "metadata": {
        "id": "2H2zT1fq9UtW"
      },
      "execution_count": null,
      "outputs": []
    },
    {
      "cell_type": "markdown",
      "source": [
        "Use `.head()` to view the first few rows of `genes_of_interest_fpkm`"
      ],
      "metadata": {
        "id": "kNsODdiQDH-d"
      }
    },
    {
      "cell_type": "code",
      "source": [],
      "metadata": {
        "id": "7KPtEzD0DLY0"
      },
      "execution_count": null,
      "outputs": []
    },
    {
      "cell_type": "markdown",
      "source": [
        "To plot this data most easily, we want it to look like this instead:\n",
        "\n",
        "| Gene  | Cell Type | FPKM       |\n",
        "|-------|-----------|------------|\n",
        "|  CCR7 |  immature |   1.724602 |\n",
        "| PPARG |  immature |  37.502964 |\n",
        "|  CCR7 |         A | 128.391052 |\n",
        "| PPARG |         A |   6.706289 |\n",
        "|  CCR7 |         B |   2.396366 |\n",
        "| PPARG |         B |  81.222435 |\n",
        "\n",
        "You can do this by hand, or with various round-about coding tricks (which is what I did for years), but there's a function called `.melt()` that can do it for you. \n",
        "\n",
        "I'll provide you that code below, which uses the \"Gene\" column as a label, then turns the other columns into a new column called \"Cell Type\", and matches them with their values in a column called \"FPKM\".\n",
        "\n",
        "Rearranging data like this is often called \"tidying\" the data, named in a [2014 paper](http://vita.had.co.nz/papers/tidy-data.pdf) from the data visualization mastermind (and head programmer for RStudio) Hadley Wickham."
      ],
      "metadata": {
        "id": "v0DBDUHADSPJ"
      }
    },
    {
      "cell_type": "code",
      "source": [
        "genes_of_interest_fpkm_tidy = genes_of_interest_fpkm.melt(id_vars = [\"Gene\"], \n",
        "                                                          var_name = \"Cell Type\", \n",
        "                                                          value_name = \"FPKM\")"
      ],
      "metadata": {
        "id": "B0wAGZsw-NXe"
      },
      "execution_count": null,
      "outputs": []
    },
    {
      "cell_type": "markdown",
      "source": [
        "Print out `genes_of_interest_fpkm_tidy` to make sure it looks as expected"
      ],
      "metadata": {
        "id": "yw4ipdP2FAod"
      }
    },
    {
      "cell_type": "code",
      "source": [],
      "metadata": {
        "id": "_7GKMm8gDwB5"
      },
      "execution_count": null,
      "outputs": []
    },
    {
      "cell_type": "markdown",
      "source": [
        "Now, make a plot using `sns.barplot()`. Use the following arguments:\n",
        "* `data = genes_of_interest_fpkm_tidy`\n",
        "* `x = \"Gene\"`\n",
        "* `y = \"FPKM\"`\n",
        "* `hue = \"Cell Type\"`"
      ],
      "metadata": {
        "id": "t6I5CfQPFLfW"
      }
    },
    {
      "cell_type": "code",
      "source": [],
      "metadata": {
        "id": "PnWYh2MbHUL_"
      },
      "execution_count": null,
      "outputs": []
    },
    {
      "cell_type": "markdown",
      "source": [
        "Which sample, \"A\" or \"B\", corresponds to M1 macrophages? M2?"
      ],
      "metadata": {
        "id": "SpTu6RAsHZ17"
      }
    },
    {
      "cell_type": "markdown",
      "source": [
        "### Part 1c: Histograms and log transformations\n",
        "\n",
        "To do most analyses of RNA data, you need to log transform the read-and-length-normalized RNA expression levels. \n",
        "\n",
        "This is because many statistical analyses assume that the data is normally-distributed. Most sequencing data is [log-normal](https://en.wikipedia.org/wiki/Log-normal_distribution), meaning that it isn't usually normally distributed, but if you take the log of all the data, it's approximately normal. \n",
        "\n",
        "Here are a few exercises to demonstrate that.\n",
        "\n",
        "------------------"
      ],
      "metadata": {
        "id": "hl43TtiXHCVv"
      }
    },
    {
      "cell_type": "markdown",
      "source": [
        "Plot a histogram of the FPKM values for one of the 3 samples. \n",
        "\n",
        "Use the plt.hist() function"
      ],
      "metadata": {
        "id": "BXdGj3bdJmFz"
      }
    },
    {
      "cell_type": "code",
      "source": [],
      "metadata": {
        "id": "Qm2NY4WhaQwe"
      },
      "execution_count": null,
      "outputs": []
    },
    {
      "cell_type": "markdown",
      "source": [
        "**Does this data look normally distributed?**"
      ],
      "metadata": {
        "id": "gVnvniQFd0jK"
      }
    },
    {
      "cell_type": "markdown",
      "source": [
        "Try log-transforming that same data before you plot the histogram.\n",
        "\n",
        "(To log-transform an entire column, see the `np.log` function)"
      ],
      "metadata": {
        "id": "JdfL-wmOd3EI"
      }
    },
    {
      "cell_type": "code",
      "source": [
        "# Warning: this should give an error\n"
      ],
      "metadata": {
        "id": "ljl3vW9qfEDC"
      },
      "execution_count": null,
      "outputs": []
    },
    {
      "cell_type": "markdown",
      "source": [
        "You should get a \"ValueError: supplied range ... is not finite\". \n",
        "\n",
        "**What is causing that error?**"
      ],
      "metadata": {
        "id": "k-qSVgnAJ0Es"
      }
    },
    {
      "cell_type": "markdown",
      "source": [
        "It's common to add \"1\" to all values in RNA-seq data so that no values are equal to 0. Since you're adding the same value to every sample, this doesn't make a big difference in later analyses.\n",
        "\n",
        "Adding 1 is called adding a _pseudocount_\n",
        "\n",
        "----------\n",
        "\n",
        "Plot the histogram again, this time using `macrophage_fpkm[\"sample\"] + 1` to add a pseudocount to each cell."
      ],
      "metadata": {
        "id": "kzqvQ9zbe35S"
      }
    },
    {
      "cell_type": "code",
      "source": [],
      "metadata": {
        "id": "Q95PHbv9fhyT"
      },
      "execution_count": null,
      "outputs": []
    },
    {
      "cell_type": "markdown",
      "source": [
        "**Does this data look normally distributed?**"
      ],
      "metadata": {
        "id": "Fb670HO1fwlZ"
      }
    },
    {
      "cell_type": "markdown",
      "source": [
        "Oftentimes, RNA-seq data is very sparse -- that is, many FPKM values are \"0\".\n",
        "\n",
        "In these cases, sometimes it's beneficial to filter out genes that were not detected in any sample: a common cuttoff is an FPKM of \"1\" in at least one sample (that is, one sample must have at least 1 mRNA molecule for a given gene, if they had 1 million mRNA molecules total).\n",
        "\n",
        "----------"
      ],
      "metadata": {
        "id": "btN_CqANfx4N"
      }
    },
    {
      "cell_type": "markdown",
      "source": [
        "Filter `macrophage_fpkm` so that genes must have at least 1 sample with an FPKM greater than 1. \n",
        "\n",
        "Name the new table `macrophage_fpkm_filter1`\n",
        "\n",
        "Filtering like this can be tricky sometimes (the parentheses are important!) so I'll provide the code below:"
      ],
      "metadata": {
        "id": "ii9wCpOWjBj9"
      }
    },
    {
      "cell_type": "code",
      "source": [
        "macrophage_fpkm_filter1 = macrophage_fpkm[(macrophage_fpkm['immature'] >= 1) & (macrophage_fpkm['A'] >= 1) & (macrophage_fpkm['B'] >= 1)]"
      ],
      "metadata": {
        "id": "4UT0sxpNCd0Q"
      },
      "execution_count": null,
      "outputs": []
    },
    {
      "cell_type": "markdown",
      "source": [
        "How many rows did you filter out? Use the `.shape` attribute (e.g., `macrophage_fpkm.shape`) to see how many rows are in `macrophage_fpkm` and `macrophage_fpkm_filter1`."
      ],
      "metadata": {
        "id": "WtneRU_qKtPv"
      }
    },
    {
      "cell_type": "code",
      "source": [],
      "metadata": {
        "id": "yFzGW4_mj0dQ"
      },
      "execution_count": null,
      "outputs": []
    },
    {
      "cell_type": "code",
      "source": [],
      "metadata": {
        "id": "i5-GgHiej5y2"
      },
      "execution_count": null,
      "outputs": []
    },
    {
      "cell_type": "markdown",
      "source": [
        "Re-plot your histogram, with pseucounts and a log transform, with the new, `macrophage_fpkm_filter1` data."
      ],
      "metadata": {
        "id": "zwWeoXCgj9a0"
      }
    },
    {
      "cell_type": "code",
      "source": [],
      "metadata": {
        "id": "GAiJtVKbkDDd"
      },
      "execution_count": null,
      "outputs": []
    },
    {
      "cell_type": "markdown",
      "source": [
        "This now looks close to a normal distribution, with a bit of a right skew. This should be close-enough to normal for most statistical analyses. "
      ],
      "metadata": {
        "id": "FEeFFKy_kJND"
      }
    },
    {
      "cell_type": "markdown",
      "source": [
        "Finally, create a variable called `macrophage_fpkm_filter1_log` in which all three sample columns have pseudocounts and are log-transformed."
      ],
      "metadata": {
        "id": "q24W9R_qpadn"
      }
    },
    {
      "cell_type": "code",
      "source": [],
      "metadata": {
        "id": "xTtMQ09tplW1"
      },
      "execution_count": null,
      "outputs": []
    },
    {
      "cell_type": "code",
      "source": [],
      "metadata": {
        "colab": {
          "base_uri": "https://localhost:8080/",
          "height": 204
        },
        "id": "47vbahtspZ6x",
        "outputId": "ff58d818-86ac-464b-e77b-5f70dc96d370"
      },
      "execution_count": null,
      "outputs": [
        {
          "output_type": "execute_result",
          "data": {
            "text/plain": [
              "       Gene  immature         A         B\n",
              "2      DPM1  3.057809  3.116974  3.247420\n",
              "3     SCYL3  0.915810  1.580858  1.053405\n",
              "4  C1orf112  0.709408  0.921837  0.996164\n",
              "5       FGR  6.530200  5.670384  6.200391\n",
              "7     FUCA2  3.678074  3.922952  3.875431"
            ],
            "text/html": [
              "\n",
              "  <div id=\"df-86e0ee97-3da2-408a-81be-672bc9c1bffa\">\n",
              "    <div class=\"colab-df-container\">\n",
              "      <div>\n",
              "<style scoped>\n",
              "    .dataframe tbody tr th:only-of-type {\n",
              "        vertical-align: middle;\n",
              "    }\n",
              "\n",
              "    .dataframe tbody tr th {\n",
              "        vertical-align: top;\n",
              "    }\n",
              "\n",
              "    .dataframe thead th {\n",
              "        text-align: right;\n",
              "    }\n",
              "</style>\n",
              "<table border=\"1\" class=\"dataframe\">\n",
              "  <thead>\n",
              "    <tr style=\"text-align: right;\">\n",
              "      <th></th>\n",
              "      <th>Gene</th>\n",
              "      <th>immature</th>\n",
              "      <th>A</th>\n",
              "      <th>B</th>\n",
              "    </tr>\n",
              "  </thead>\n",
              "  <tbody>\n",
              "    <tr>\n",
              "      <th>2</th>\n",
              "      <td>DPM1</td>\n",
              "      <td>3.057809</td>\n",
              "      <td>3.116974</td>\n",
              "      <td>3.247420</td>\n",
              "    </tr>\n",
              "    <tr>\n",
              "      <th>3</th>\n",
              "      <td>SCYL3</td>\n",
              "      <td>0.915810</td>\n",
              "      <td>1.580858</td>\n",
              "      <td>1.053405</td>\n",
              "    </tr>\n",
              "    <tr>\n",
              "      <th>4</th>\n",
              "      <td>C1orf112</td>\n",
              "      <td>0.709408</td>\n",
              "      <td>0.921837</td>\n",
              "      <td>0.996164</td>\n",
              "    </tr>\n",
              "    <tr>\n",
              "      <th>5</th>\n",
              "      <td>FGR</td>\n",
              "      <td>6.530200</td>\n",
              "      <td>5.670384</td>\n",
              "      <td>6.200391</td>\n",
              "    </tr>\n",
              "    <tr>\n",
              "      <th>7</th>\n",
              "      <td>FUCA2</td>\n",
              "      <td>3.678074</td>\n",
              "      <td>3.922952</td>\n",
              "      <td>3.875431</td>\n",
              "    </tr>\n",
              "  </tbody>\n",
              "</table>\n",
              "</div>\n",
              "      <button class=\"colab-df-convert\" onclick=\"convertToInteractive('df-86e0ee97-3da2-408a-81be-672bc9c1bffa')\"\n",
              "              title=\"Convert this dataframe to an interactive table.\"\n",
              "              style=\"display:none;\">\n",
              "        \n",
              "  <svg xmlns=\"http://www.w3.org/2000/svg\" height=\"24px\"viewBox=\"0 0 24 24\"\n",
              "       width=\"24px\">\n",
              "    <path d=\"M0 0h24v24H0V0z\" fill=\"none\"/>\n",
              "    <path d=\"M18.56 5.44l.94 2.06.94-2.06 2.06-.94-2.06-.94-.94-2.06-.94 2.06-2.06.94zm-11 1L8.5 8.5l.94-2.06 2.06-.94-2.06-.94L8.5 2.5l-.94 2.06-2.06.94zm10 10l.94 2.06.94-2.06 2.06-.94-2.06-.94-.94-2.06-.94 2.06-2.06.94z\"/><path d=\"M17.41 7.96l-1.37-1.37c-.4-.4-.92-.59-1.43-.59-.52 0-1.04.2-1.43.59L10.3 9.45l-7.72 7.72c-.78.78-.78 2.05 0 2.83L4 21.41c.39.39.9.59 1.41.59.51 0 1.02-.2 1.41-.59l7.78-7.78 2.81-2.81c.8-.78.8-2.07 0-2.86zM5.41 20L4 18.59l7.72-7.72 1.47 1.35L5.41 20z\"/>\n",
              "  </svg>\n",
              "      </button>\n",
              "      \n",
              "  <style>\n",
              "    .colab-df-container {\n",
              "      display:flex;\n",
              "      flex-wrap:wrap;\n",
              "      gap: 12px;\n",
              "    }\n",
              "\n",
              "    .colab-df-convert {\n",
              "      background-color: #E8F0FE;\n",
              "      border: none;\n",
              "      border-radius: 50%;\n",
              "      cursor: pointer;\n",
              "      display: none;\n",
              "      fill: #1967D2;\n",
              "      height: 32px;\n",
              "      padding: 0 0 0 0;\n",
              "      width: 32px;\n",
              "    }\n",
              "\n",
              "    .colab-df-convert:hover {\n",
              "      background-color: #E2EBFA;\n",
              "      box-shadow: 0px 1px 2px rgba(60, 64, 67, 0.3), 0px 1px 3px 1px rgba(60, 64, 67, 0.15);\n",
              "      fill: #174EA6;\n",
              "    }\n",
              "\n",
              "    [theme=dark] .colab-df-convert {\n",
              "      background-color: #3B4455;\n",
              "      fill: #D2E3FC;\n",
              "    }\n",
              "\n",
              "    [theme=dark] .colab-df-convert:hover {\n",
              "      background-color: #434B5C;\n",
              "      box-shadow: 0px 1px 3px 1px rgba(0, 0, 0, 0.15);\n",
              "      filter: drop-shadow(0px 1px 2px rgba(0, 0, 0, 0.3));\n",
              "      fill: #FFFFFF;\n",
              "    }\n",
              "  </style>\n",
              "\n",
              "      <script>\n",
              "        const buttonEl =\n",
              "          document.querySelector('#df-86e0ee97-3da2-408a-81be-672bc9c1bffa button.colab-df-convert');\n",
              "        buttonEl.style.display =\n",
              "          google.colab.kernel.accessAllowed ? 'block' : 'none';\n",
              "\n",
              "        async function convertToInteractive(key) {\n",
              "          const element = document.querySelector('#df-86e0ee97-3da2-408a-81be-672bc9c1bffa');\n",
              "          const dataTable =\n",
              "            await google.colab.kernel.invokeFunction('convertToInteractive',\n",
              "                                                     [key], {});\n",
              "          if (!dataTable) return;\n",
              "\n",
              "          const docLinkHtml = 'Like what you see? Visit the ' +\n",
              "            '<a target=\"_blank\" href=https://colab.research.google.com/notebooks/data_table.ipynb>data table notebook</a>'\n",
              "            + ' to learn more about interactive tables.';\n",
              "          element.innerHTML = '';\n",
              "          dataTable['output_type'] = 'display_data';\n",
              "          await google.colab.output.renderOutput(dataTable, element);\n",
              "          const docLink = document.createElement('div');\n",
              "          docLink.innerHTML = docLinkHtml;\n",
              "          element.appendChild(docLink);\n",
              "        }\n",
              "      </script>\n",
              "    </div>\n",
              "  </div>\n",
              "  "
            ]
          },
          "metadata": {},
          "execution_count": 123
        }
      ]
    },
    {
      "cell_type": "markdown",
      "source": [
        "### Part 1d: Analyzing the effect of drugs"
      ],
      "metadata": {
        "id": "1OyIeOpMLOfJ"
      }
    },
    {
      "cell_type": "markdown",
      "source": [
        "One of the main purposes of the [He 2021](https://doi.org/10.1016/j.celrep.2021.109955) paper that this data comes from is to analyze the effect of two drugs that might block M2 development, abbreviated PANO and TRAM.\n",
        "\n",
        "So, they treat cells with PANO and TRAM. They also treat the cells with DMSO, as a control, since DMSO shouldn't affect M2 development.\n",
        "\n",
        "In the `bulkRNAseq_file_location_advanced` file, I provide their data from supplementary figure S4. I only made a couple changes: I included only one replicate (the real data includes two replicates that you'd need to average) and I deleted one of the columns (that contains alternative gene IDs).\n",
        "\n",
        "Let's load that data:"
      ],
      "metadata": {
        "id": "lntIX5HpZqBm"
      }
    },
    {
      "cell_type": "code",
      "source": [
        "macrophage_fpkm_full = pd.read_csv(bulkRNAseq_file_location_advanced)"
      ],
      "metadata": {
        "id": "Or-H0BBbTIJr"
      },
      "execution_count": null,
      "outputs": []
    },
    {
      "cell_type": "markdown",
      "source": [
        "Now that the data is loaded, we can filter to only include M2 columns:"
      ],
      "metadata": {
        "id": "j_MJw6-raJr0"
      }
    },
    {
      "cell_type": "code",
      "source": [
        "macrophage_fpkm_M2 = macrophage_fpkm_full[[\"Gene\", \"DMSO_M2_1\", \n",
        "                                           \"PANO_M2_1\", \"TRAM_M2_1\"]]"
      ],
      "metadata": {
        "id": "nr0XwrDuTNKZ"
      },
      "execution_count": null,
      "outputs": []
    },
    {
      "cell_type": "markdown",
      "source": [
        "In Figure S10A (found in [this PDF](https://www.cell.com/cms/10.1016/j.celrep.2021.109955/attachment/ff2a1de1-d419-4bf7-9df2-1ec29a4b757b/mmc1), page 16 on the right side) the authors include genes that change in macrophages after PANO or TRAM treatment.\n",
        "\n",
        "Some of these genes are genes that are known to be important to M2 development (this is important, because that suggests that those drugs could be used to treat cancer, since too many M2 macrophages can promote cancer growth).\n",
        "\n",
        "These genes include:\n",
        "* IL1B\n",
        "* PDGFB\n",
        "* ICAM1\n",
        "* MYC\n"
      ],
      "metadata": {
        "id": "XACfk6qbaOvL"
      }
    },
    {
      "cell_type": "markdown",
      "source": [
        "First, filter the dataset for one of these genes:"
      ],
      "metadata": {
        "id": "ziHkPm4HbFGa"
      }
    },
    {
      "cell_type": "code",
      "source": [
        "macrophage_fpkm_M2_gene = macrophage_fpkm_M2[macrophage_fpkm_M2[\"Gene\"] == \"IL1B\"]"
      ],
      "metadata": {
        "id": "mutA_fjWX36X"
      },
      "execution_count": null,
      "outputs": []
    },
    {
      "cell_type": "markdown",
      "source": [
        "Now, modify the code to tidy the data and create a `sns.barplot`, just like we did Part 1b."
      ],
      "metadata": {
        "id": "fkX9-lxfbLIq"
      }
    },
    {
      "cell_type": "code",
      "source": [],
      "metadata": {
        "id": "xVgMx4kPTsIr"
      },
      "execution_count": null,
      "outputs": []
    },
    {
      "cell_type": "code",
      "source": [],
      "metadata": {
        "id": "Q3fqjr0iTy0m"
      },
      "execution_count": null,
      "outputs": []
    },
    {
      "cell_type": "markdown",
      "source": [
        "Describe the effects that you observe. Repeat this process with the other three genes.\n",
        "\n",
        "Also repeat the process with one gene that you think should have no effect on M2 polarization (good genes to check here are [Housekeeping genes](https://en.wikipedia.org/wiki/Housekeeping_gene), which are known to not change too much between conditions. A good one to start is \"ILF2\")"
      ],
      "metadata": {
        "id": "p--fyAiKbRRa"
      }
    },
    {
      "cell_type": "markdown",
      "source": [
        "If you have extra time: can you create a single plot that includes all 4/5 genes of interest?"
      ],
      "metadata": {
        "id": "KFXTW28KcP7T"
      }
    },
    {
      "cell_type": "markdown",
      "source": [
        "### Part 1e: Download the original data\n",
        "\n",
        "Still have extra time? Play around with different genes found in the [supplementary information](https://www.cell.com/cms/10.1016/j.celrep.2021.109955/attachment/ff2a1de1-d419-4bf7-9df2-1ec29a4b757b/mmc1), or download the data yourself, Table S4 in the \"Supplementary Data\" section [here](https://doi.org/10.1016/j.celrep.2021.109955) and try to take the mean of each sample replicate and recreate some of the paper's analyses."
      ],
      "metadata": {
        "id": "5muFBm8AcBKO"
      }
    },
    {
      "cell_type": "markdown",
      "source": [
        "## Part 2: Analyzing Single-Cell Gene Expression to Identify Cell Type Clusters\n",
        "Written by Giselle Valdes"
      ],
      "metadata": {
        "id": "i5EFBXxuvRjg"
      }
    },
    {
      "cell_type": "markdown",
      "source": [
        "### Introduction to the Exercise\n",
        "\n",
        "We hypothesize that we can detect different types of peripheral blood mononuclear cells using single-cell RNA-Seq.\n",
        "\n",
        "You will start with normalized expression values of the most variable genes in a population of peripheral blood mononuclear cells, and will work through the following steps:\n",
        "\n",
        "1. Transform the normalized expression values.\n",
        "2. Use PCA and UMAP to reduce dimensionality and visualize.\n",
        "3. Use kmeans clustering to cluster cells based on gene expression profiles.\n",
        "4. Find highly expressed genes within clusters\n",
        "5. Visualize gene expression within your dataset\n"
      ],
      "metadata": {
        "id": "VLDlocg3vwao"
      }
    },
    {
      "cell_type": "markdown",
      "source": [
        "### 2a. Loading and Transforming the Normalized PBMC Dataset"
      ],
      "metadata": {
        "id": "MaKvTLFzx7P5"
      }
    },
    {
      "cell_type": "code",
      "execution_count": null,
      "metadata": {
        "id": "mIwtg1QuU3b8"
      },
      "outputs": [],
      "source": [
        "#set up environment\n",
        "import pandas as pd\n",
        "import numpy as np\n",
        "import seaborn as sns\n",
        "\n",
        "#load normalized data\n",
        "file = 'https://raw.githubusercontent.com/gval38/PBMC_dataset/main/pbmcs.txt'\n",
        "A_table = pd.read_csv(file, sep='\\t', header=0, index_col=0)\n",
        "\n",
        "#log transform data\n",
        "A_log=np.log(A_table+1)\n"
      ]
    },
    {
      "cell_type": "markdown",
      "source": [
        "What do the rows and column of our log transformed table, A_log, represent? \n",
        "\n",
        "Hint: It might be helpful to visualize the head of the data, as you did previously."
      ],
      "metadata": {
        "id": "DKz2TGI00WDV"
      }
    },
    {
      "cell_type": "code",
      "source": [
        "#Visalize the first 5 rows of data\n",
        "A_log.head()"
      ],
      "metadata": {
        "id": "YY7hBZTR4tgJ",
        "colab": {
          "base_uri": "https://localhost:8080/",
          "height": 386
        },
        "outputId": "9e8c47cf-abc7-4b73-b461-1fa32226c947"
      },
      "execution_count": null,
      "outputs": [
        {
          "output_type": "execute_result",
          "data": {
            "text/plain": [
              "                  TNFRSF4  CPSF3L  ATAD3C  C1orf86      RER1  TNFRSF25  \\\n",
              "AAACATACAACCAC-1      0.0     0.0     0.0      0.0  0.000000  2.226555   \n",
              "AAACATTGAGCTAC-1      0.0     0.0     0.0      0.0  1.111715  0.000000   \n",
              "AAACATTGATCAGC-1      0.0     0.0     0.0      0.0  1.429744  0.000000   \n",
              "AAACCGTGCTTCCG-1      0.0     0.0     0.0      0.0  1.566387  0.000000   \n",
              "AAACCGTGTATGCG-1      0.0     0.0     0.0      0.0  0.000000  0.000000   \n",
              "\n",
              "                  TNFRSF9  CTNNBIP1  SRM  UBIAD1  ...  DSCR3     BRWD1  BACE2  \\\n",
              "AAACATACAACCAC-1      0.0  0.000000  0.0     0.0  ...    0.0  0.000000    0.0   \n",
              "AAACATTGAGCTAC-1      0.0  0.000000  0.0     0.0  ...    0.0  1.111715    0.0   \n",
              "AAACATTGATCAGC-1      0.0  0.000000  0.0     0.0  ...    0.0  0.000000    0.0   \n",
              "AAACCGTGCTTCCG-1      0.0  0.000000  0.0     0.0  ...    0.0  0.000000    0.0   \n",
              "AAACCGTGTATGCG-1      0.0  2.416278  0.0     0.0  ...    0.0  0.000000    0.0   \n",
              "\n",
              "                  SIK1  C21orf33  ICOSLG     SUMO3  SLC19A1  S100B     PRMT2  \n",
              "AAACATACAACCAC-1   0.0  0.000000     0.0  0.000000      0.0    0.0  0.000000  \n",
              "AAACATTGAGCTAC-1   0.0  1.111715     0.0  0.000000      0.0    0.0  0.000000  \n",
              "AAACATTGATCAGC-1   0.0  0.000000     0.0  0.000000      0.0    0.0  1.429744  \n",
              "AAACCGTGCTTCCG-1   0.0  1.566387     0.0  1.566387      0.0    0.0  0.000000  \n",
              "AAACCGTGTATGCG-1   0.0  0.000000     0.0  0.000000      0.0    0.0  0.000000  \n",
              "\n",
              "[5 rows x 1838 columns]"
            ],
            "text/html": [
              "\n",
              "  <div id=\"df-6adc4625-bcaa-4533-83bd-8a63a0e6afd7\">\n",
              "    <div class=\"colab-df-container\">\n",
              "      <div>\n",
              "<style scoped>\n",
              "    .dataframe tbody tr th:only-of-type {\n",
              "        vertical-align: middle;\n",
              "    }\n",
              "\n",
              "    .dataframe tbody tr th {\n",
              "        vertical-align: top;\n",
              "    }\n",
              "\n",
              "    .dataframe thead th {\n",
              "        text-align: right;\n",
              "    }\n",
              "</style>\n",
              "<table border=\"1\" class=\"dataframe\">\n",
              "  <thead>\n",
              "    <tr style=\"text-align: right;\">\n",
              "      <th></th>\n",
              "      <th>TNFRSF4</th>\n",
              "      <th>CPSF3L</th>\n",
              "      <th>ATAD3C</th>\n",
              "      <th>C1orf86</th>\n",
              "      <th>RER1</th>\n",
              "      <th>TNFRSF25</th>\n",
              "      <th>TNFRSF9</th>\n",
              "      <th>CTNNBIP1</th>\n",
              "      <th>SRM</th>\n",
              "      <th>UBIAD1</th>\n",
              "      <th>...</th>\n",
              "      <th>DSCR3</th>\n",
              "      <th>BRWD1</th>\n",
              "      <th>BACE2</th>\n",
              "      <th>SIK1</th>\n",
              "      <th>C21orf33</th>\n",
              "      <th>ICOSLG</th>\n",
              "      <th>SUMO3</th>\n",
              "      <th>SLC19A1</th>\n",
              "      <th>S100B</th>\n",
              "      <th>PRMT2</th>\n",
              "    </tr>\n",
              "  </thead>\n",
              "  <tbody>\n",
              "    <tr>\n",
              "      <th>AAACATACAACCAC-1</th>\n",
              "      <td>0.0</td>\n",
              "      <td>0.0</td>\n",
              "      <td>0.0</td>\n",
              "      <td>0.0</td>\n",
              "      <td>0.000000</td>\n",
              "      <td>2.226555</td>\n",
              "      <td>0.0</td>\n",
              "      <td>0.000000</td>\n",
              "      <td>0.0</td>\n",
              "      <td>0.0</td>\n",
              "      <td>...</td>\n",
              "      <td>0.0</td>\n",
              "      <td>0.000000</td>\n",
              "      <td>0.0</td>\n",
              "      <td>0.0</td>\n",
              "      <td>0.000000</td>\n",
              "      <td>0.0</td>\n",
              "      <td>0.000000</td>\n",
              "      <td>0.0</td>\n",
              "      <td>0.0</td>\n",
              "      <td>0.000000</td>\n",
              "    </tr>\n",
              "    <tr>\n",
              "      <th>AAACATTGAGCTAC-1</th>\n",
              "      <td>0.0</td>\n",
              "      <td>0.0</td>\n",
              "      <td>0.0</td>\n",
              "      <td>0.0</td>\n",
              "      <td>1.111715</td>\n",
              "      <td>0.000000</td>\n",
              "      <td>0.0</td>\n",
              "      <td>0.000000</td>\n",
              "      <td>0.0</td>\n",
              "      <td>0.0</td>\n",
              "      <td>...</td>\n",
              "      <td>0.0</td>\n",
              "      <td>1.111715</td>\n",
              "      <td>0.0</td>\n",
              "      <td>0.0</td>\n",
              "      <td>1.111715</td>\n",
              "      <td>0.0</td>\n",
              "      <td>0.000000</td>\n",
              "      <td>0.0</td>\n",
              "      <td>0.0</td>\n",
              "      <td>0.000000</td>\n",
              "    </tr>\n",
              "    <tr>\n",
              "      <th>AAACATTGATCAGC-1</th>\n",
              "      <td>0.0</td>\n",
              "      <td>0.0</td>\n",
              "      <td>0.0</td>\n",
              "      <td>0.0</td>\n",
              "      <td>1.429744</td>\n",
              "      <td>0.000000</td>\n",
              "      <td>0.0</td>\n",
              "      <td>0.000000</td>\n",
              "      <td>0.0</td>\n",
              "      <td>0.0</td>\n",
              "      <td>...</td>\n",
              "      <td>0.0</td>\n",
              "      <td>0.000000</td>\n",
              "      <td>0.0</td>\n",
              "      <td>0.0</td>\n",
              "      <td>0.000000</td>\n",
              "      <td>0.0</td>\n",
              "      <td>0.000000</td>\n",
              "      <td>0.0</td>\n",
              "      <td>0.0</td>\n",
              "      <td>1.429744</td>\n",
              "    </tr>\n",
              "    <tr>\n",
              "      <th>AAACCGTGCTTCCG-1</th>\n",
              "      <td>0.0</td>\n",
              "      <td>0.0</td>\n",
              "      <td>0.0</td>\n",
              "      <td>0.0</td>\n",
              "      <td>1.566387</td>\n",
              "      <td>0.000000</td>\n",
              "      <td>0.0</td>\n",
              "      <td>0.000000</td>\n",
              "      <td>0.0</td>\n",
              "      <td>0.0</td>\n",
              "      <td>...</td>\n",
              "      <td>0.0</td>\n",
              "      <td>0.000000</td>\n",
              "      <td>0.0</td>\n",
              "      <td>0.0</td>\n",
              "      <td>1.566387</td>\n",
              "      <td>0.0</td>\n",
              "      <td>1.566387</td>\n",
              "      <td>0.0</td>\n",
              "      <td>0.0</td>\n",
              "      <td>0.000000</td>\n",
              "    </tr>\n",
              "    <tr>\n",
              "      <th>AAACCGTGTATGCG-1</th>\n",
              "      <td>0.0</td>\n",
              "      <td>0.0</td>\n",
              "      <td>0.0</td>\n",
              "      <td>0.0</td>\n",
              "      <td>0.000000</td>\n",
              "      <td>0.000000</td>\n",
              "      <td>0.0</td>\n",
              "      <td>2.416278</td>\n",
              "      <td>0.0</td>\n",
              "      <td>0.0</td>\n",
              "      <td>...</td>\n",
              "      <td>0.0</td>\n",
              "      <td>0.000000</td>\n",
              "      <td>0.0</td>\n",
              "      <td>0.0</td>\n",
              "      <td>0.000000</td>\n",
              "      <td>0.0</td>\n",
              "      <td>0.000000</td>\n",
              "      <td>0.0</td>\n",
              "      <td>0.0</td>\n",
              "      <td>0.000000</td>\n",
              "    </tr>\n",
              "  </tbody>\n",
              "</table>\n",
              "<p>5 rows × 1838 columns</p>\n",
              "</div>\n",
              "      <button class=\"colab-df-convert\" onclick=\"convertToInteractive('df-6adc4625-bcaa-4533-83bd-8a63a0e6afd7')\"\n",
              "              title=\"Convert this dataframe to an interactive table.\"\n",
              "              style=\"display:none;\">\n",
              "        \n",
              "  <svg xmlns=\"http://www.w3.org/2000/svg\" height=\"24px\"viewBox=\"0 0 24 24\"\n",
              "       width=\"24px\">\n",
              "    <path d=\"M0 0h24v24H0V0z\" fill=\"none\"/>\n",
              "    <path d=\"M18.56 5.44l.94 2.06.94-2.06 2.06-.94-2.06-.94-.94-2.06-.94 2.06-2.06.94zm-11 1L8.5 8.5l.94-2.06 2.06-.94-2.06-.94L8.5 2.5l-.94 2.06-2.06.94zm10 10l.94 2.06.94-2.06 2.06-.94-2.06-.94-.94-2.06-.94 2.06-2.06.94z\"/><path d=\"M17.41 7.96l-1.37-1.37c-.4-.4-.92-.59-1.43-.59-.52 0-1.04.2-1.43.59L10.3 9.45l-7.72 7.72c-.78.78-.78 2.05 0 2.83L4 21.41c.39.39.9.59 1.41.59.51 0 1.02-.2 1.41-.59l7.78-7.78 2.81-2.81c.8-.78.8-2.07 0-2.86zM5.41 20L4 18.59l7.72-7.72 1.47 1.35L5.41 20z\"/>\n",
              "  </svg>\n",
              "      </button>\n",
              "      \n",
              "  <style>\n",
              "    .colab-df-container {\n",
              "      display:flex;\n",
              "      flex-wrap:wrap;\n",
              "      gap: 12px;\n",
              "    }\n",
              "\n",
              "    .colab-df-convert {\n",
              "      background-color: #E8F0FE;\n",
              "      border: none;\n",
              "      border-radius: 50%;\n",
              "      cursor: pointer;\n",
              "      display: none;\n",
              "      fill: #1967D2;\n",
              "      height: 32px;\n",
              "      padding: 0 0 0 0;\n",
              "      width: 32px;\n",
              "    }\n",
              "\n",
              "    .colab-df-convert:hover {\n",
              "      background-color: #E2EBFA;\n",
              "      box-shadow: 0px 1px 2px rgba(60, 64, 67, 0.3), 0px 1px 3px 1px rgba(60, 64, 67, 0.15);\n",
              "      fill: #174EA6;\n",
              "    }\n",
              "\n",
              "    [theme=dark] .colab-df-convert {\n",
              "      background-color: #3B4455;\n",
              "      fill: #D2E3FC;\n",
              "    }\n",
              "\n",
              "    [theme=dark] .colab-df-convert:hover {\n",
              "      background-color: #434B5C;\n",
              "      box-shadow: 0px 1px 3px 1px rgba(0, 0, 0, 0.15);\n",
              "      filter: drop-shadow(0px 1px 2px rgba(0, 0, 0, 0.3));\n",
              "      fill: #FFFFFF;\n",
              "    }\n",
              "  </style>\n",
              "\n",
              "      <script>\n",
              "        const buttonEl =\n",
              "          document.querySelector('#df-6adc4625-bcaa-4533-83bd-8a63a0e6afd7 button.colab-df-convert');\n",
              "        buttonEl.style.display =\n",
              "          google.colab.kernel.accessAllowed ? 'block' : 'none';\n",
              "\n",
              "        async function convertToInteractive(key) {\n",
              "          const element = document.querySelector('#df-6adc4625-bcaa-4533-83bd-8a63a0e6afd7');\n",
              "          const dataTable =\n",
              "            await google.colab.kernel.invokeFunction('convertToInteractive',\n",
              "                                                     [key], {});\n",
              "          if (!dataTable) return;\n",
              "\n",
              "          const docLinkHtml = 'Like what you see? Visit the ' +\n",
              "            '<a target=\"_blank\" href=https://colab.research.google.com/notebooks/data_table.ipynb>data table notebook</a>'\n",
              "            + ' to learn more about interactive tables.';\n",
              "          element.innerHTML = '';\n",
              "          dataTable['output_type'] = 'display_data';\n",
              "          await google.colab.output.renderOutput(dataTable, element);\n",
              "          const docLink = document.createElement('div');\n",
              "          docLink.innerHTML = docLinkHtml;\n",
              "          element.appendChild(docLink);\n",
              "        }\n",
              "      </script>\n",
              "    </div>\n",
              "  </div>\n",
              "  "
            ]
          },
          "metadata": {},
          "execution_count": 7
        }
      ]
    },
    {
      "cell_type": "markdown",
      "source": [
        "### 2b-1. Dimensionality Reduction with PCA"
      ],
      "metadata": {
        "id": "oyFZ7p_11UKD"
      }
    },
    {
      "cell_type": "code",
      "source": [
        "#Run PCA on the transformed data to reduce dimensions\n",
        "from sklearn.decomposition import PCA\n",
        "PCA = PCA(n_components=50)\n",
        "PCA.fit(A_log) #find PCs for data\n",
        "A_pca = PCA.transform(A_log)# applies PCs to data (projects data points onto PCs)\n"
      ],
      "metadata": {
        "id": "Pr_ot2cPfISu"
      },
      "execution_count": null,
      "outputs": []
    },
    {
      "cell_type": "code",
      "source": [
        "pd.DataFrame(A_pca)"
      ],
      "metadata": {
        "colab": {
          "base_uri": "https://localhost:8080/",
          "height": 488
        },
        "id": "kDVFGbCuGlan",
        "outputId": "91ab36e1-d3f0-4b4a-a960-ee25213e7fab"
      },
      "execution_count": null,
      "outputs": [
        {
          "output_type": "execute_result",
          "data": {
            "text/plain": [
              "             0         1         2         3         4         5         6   \\\n",
              "0     -4.434026  0.250232 -1.498861 -0.003177  0.915319 -0.678758 -1.088754   \n",
              "1     -0.758417 -4.248603  6.066877 -1.804408  1.217160 -0.636761  0.354287   \n",
              "2     -2.828663  1.395358 -2.975468 -3.697265  1.022456  0.724843  1.840505   \n",
              "3     11.277043  0.625911  1.211095 -0.594050  0.959327  0.674050 -0.747047   \n",
              "4     -2.079163  7.290677  4.432146  5.058110 -2.843560  3.137843  0.658867   \n",
              "...         ...       ...       ...       ...       ...       ...       ...   \n",
              "2633  11.572065 -0.376104  0.526794 -0.798357 -0.422798 -2.243456  2.225430   \n",
              "2634  -1.285607 -2.378037  2.955052 -1.237183  0.709693  0.870953  0.447295   \n",
              "2635  -2.888990 -7.058879  5.588694  0.270656 -1.054954  0.251689 -0.024510   \n",
              "2636  -1.778461 -5.386581  6.251892  1.553993 -0.238298 -0.999253 -0.331191   \n",
              "2637  -2.960581 -1.322451 -2.487020 -0.637624 -0.928641  1.058780 -0.369478   \n",
              "\n",
              "            7         8         9   ...        40        41        42  \\\n",
              "0    -0.942395  3.108002  1.111727  ...  0.413463 -1.421173 -0.470513   \n",
              "1     0.405094  1.132560 -1.474235  ... -0.344941  0.019303 -0.668095   \n",
              "2     0.913616 -1.159927 -1.171632  ... -0.776531 -1.197890  0.444292   \n",
              "3    -0.358027 -0.984358  0.348626  ... -0.656925 -0.619722 -0.498953   \n",
              "4    -0.762703 -2.040230  1.717354  ...  2.067787 -2.239389 -1.887245   \n",
              "...        ...       ...       ...  ...       ...       ...       ...   \n",
              "2633 -2.113229 -0.201485  0.489201  ...  0.889351  0.274837  0.816225   \n",
              "2634  0.270915 -0.818156  1.637888  ... -0.203029 -3.253886 -0.114188   \n",
              "2635 -0.177867 -0.660705 -1.028945  ... -0.363300  0.542209 -0.410786   \n",
              "2636  0.932077 -2.529190  1.358034  ...  0.418373  0.229496 -1.004082   \n",
              "2637 -0.588152  0.489115 -1.339779  ...  0.223809  0.994232  0.324490   \n",
              "\n",
              "            43        44        45        46        47        48        49  \n",
              "0    -1.147069 -1.867310 -0.949909  1.508717 -3.347181 -0.505150 -0.122076  \n",
              "1     0.387455 -1.418386  0.970030  0.552040  0.474943  1.188038 -0.627161  \n",
              "2    -0.103266 -0.151162  0.902831 -0.251604 -0.304230  0.921684  0.894450  \n",
              "3    -1.580063 -0.538174  0.744157  0.397019 -0.676203 -0.269736  3.188242  \n",
              "4     0.317124 -1.390871  1.042627  2.859139 -0.749622 -1.709098 -0.144785  \n",
              "...        ...       ...       ...       ...       ...       ...       ...  \n",
              "2633 -0.134032  0.260464  0.729112  0.251714  0.741135  0.558236  0.907352  \n",
              "2634  0.164444  0.977267  0.928396 -0.812150  1.628651 -1.833242 -0.876227  \n",
              "2635  0.463398  1.196365 -1.273019 -2.059074  0.448396 -1.654807  0.536477  \n",
              "2636  1.395435 -0.324278  1.546524 -0.000483 -0.768453  0.353640  1.829357  \n",
              "2637  2.237903 -0.981265  1.431591 -1.282164 -1.640025 -0.722300  1.173895  \n",
              "\n",
              "[2638 rows x 50 columns]"
            ],
            "text/html": [
              "\n",
              "  <div id=\"df-cae303ea-bdf1-425a-902c-dae2f8b6fe33\">\n",
              "    <div class=\"colab-df-container\">\n",
              "      <div>\n",
              "<style scoped>\n",
              "    .dataframe tbody tr th:only-of-type {\n",
              "        vertical-align: middle;\n",
              "    }\n",
              "\n",
              "    .dataframe tbody tr th {\n",
              "        vertical-align: top;\n",
              "    }\n",
              "\n",
              "    .dataframe thead th {\n",
              "        text-align: right;\n",
              "    }\n",
              "</style>\n",
              "<table border=\"1\" class=\"dataframe\">\n",
              "  <thead>\n",
              "    <tr style=\"text-align: right;\">\n",
              "      <th></th>\n",
              "      <th>0</th>\n",
              "      <th>1</th>\n",
              "      <th>2</th>\n",
              "      <th>3</th>\n",
              "      <th>4</th>\n",
              "      <th>5</th>\n",
              "      <th>6</th>\n",
              "      <th>7</th>\n",
              "      <th>8</th>\n",
              "      <th>9</th>\n",
              "      <th>...</th>\n",
              "      <th>40</th>\n",
              "      <th>41</th>\n",
              "      <th>42</th>\n",
              "      <th>43</th>\n",
              "      <th>44</th>\n",
              "      <th>45</th>\n",
              "      <th>46</th>\n",
              "      <th>47</th>\n",
              "      <th>48</th>\n",
              "      <th>49</th>\n",
              "    </tr>\n",
              "  </thead>\n",
              "  <tbody>\n",
              "    <tr>\n",
              "      <th>0</th>\n",
              "      <td>-4.434026</td>\n",
              "      <td>0.250232</td>\n",
              "      <td>-1.498861</td>\n",
              "      <td>-0.003177</td>\n",
              "      <td>0.915319</td>\n",
              "      <td>-0.678758</td>\n",
              "      <td>-1.088754</td>\n",
              "      <td>-0.942395</td>\n",
              "      <td>3.108002</td>\n",
              "      <td>1.111727</td>\n",
              "      <td>...</td>\n",
              "      <td>0.413463</td>\n",
              "      <td>-1.421173</td>\n",
              "      <td>-0.470513</td>\n",
              "      <td>-1.147069</td>\n",
              "      <td>-1.867310</td>\n",
              "      <td>-0.949909</td>\n",
              "      <td>1.508717</td>\n",
              "      <td>-3.347181</td>\n",
              "      <td>-0.505150</td>\n",
              "      <td>-0.122076</td>\n",
              "    </tr>\n",
              "    <tr>\n",
              "      <th>1</th>\n",
              "      <td>-0.758417</td>\n",
              "      <td>-4.248603</td>\n",
              "      <td>6.066877</td>\n",
              "      <td>-1.804408</td>\n",
              "      <td>1.217160</td>\n",
              "      <td>-0.636761</td>\n",
              "      <td>0.354287</td>\n",
              "      <td>0.405094</td>\n",
              "      <td>1.132560</td>\n",
              "      <td>-1.474235</td>\n",
              "      <td>...</td>\n",
              "      <td>-0.344941</td>\n",
              "      <td>0.019303</td>\n",
              "      <td>-0.668095</td>\n",
              "      <td>0.387455</td>\n",
              "      <td>-1.418386</td>\n",
              "      <td>0.970030</td>\n",
              "      <td>0.552040</td>\n",
              "      <td>0.474943</td>\n",
              "      <td>1.188038</td>\n",
              "      <td>-0.627161</td>\n",
              "    </tr>\n",
              "    <tr>\n",
              "      <th>2</th>\n",
              "      <td>-2.828663</td>\n",
              "      <td>1.395358</td>\n",
              "      <td>-2.975468</td>\n",
              "      <td>-3.697265</td>\n",
              "      <td>1.022456</td>\n",
              "      <td>0.724843</td>\n",
              "      <td>1.840505</td>\n",
              "      <td>0.913616</td>\n",
              "      <td>-1.159927</td>\n",
              "      <td>-1.171632</td>\n",
              "      <td>...</td>\n",
              "      <td>-0.776531</td>\n",
              "      <td>-1.197890</td>\n",
              "      <td>0.444292</td>\n",
              "      <td>-0.103266</td>\n",
              "      <td>-0.151162</td>\n",
              "      <td>0.902831</td>\n",
              "      <td>-0.251604</td>\n",
              "      <td>-0.304230</td>\n",
              "      <td>0.921684</td>\n",
              "      <td>0.894450</td>\n",
              "    </tr>\n",
              "    <tr>\n",
              "      <th>3</th>\n",
              "      <td>11.277043</td>\n",
              "      <td>0.625911</td>\n",
              "      <td>1.211095</td>\n",
              "      <td>-0.594050</td>\n",
              "      <td>0.959327</td>\n",
              "      <td>0.674050</td>\n",
              "      <td>-0.747047</td>\n",
              "      <td>-0.358027</td>\n",
              "      <td>-0.984358</td>\n",
              "      <td>0.348626</td>\n",
              "      <td>...</td>\n",
              "      <td>-0.656925</td>\n",
              "      <td>-0.619722</td>\n",
              "      <td>-0.498953</td>\n",
              "      <td>-1.580063</td>\n",
              "      <td>-0.538174</td>\n",
              "      <td>0.744157</td>\n",
              "      <td>0.397019</td>\n",
              "      <td>-0.676203</td>\n",
              "      <td>-0.269736</td>\n",
              "      <td>3.188242</td>\n",
              "    </tr>\n",
              "    <tr>\n",
              "      <th>4</th>\n",
              "      <td>-2.079163</td>\n",
              "      <td>7.290677</td>\n",
              "      <td>4.432146</td>\n",
              "      <td>5.058110</td>\n",
              "      <td>-2.843560</td>\n",
              "      <td>3.137843</td>\n",
              "      <td>0.658867</td>\n",
              "      <td>-0.762703</td>\n",
              "      <td>-2.040230</td>\n",
              "      <td>1.717354</td>\n",
              "      <td>...</td>\n",
              "      <td>2.067787</td>\n",
              "      <td>-2.239389</td>\n",
              "      <td>-1.887245</td>\n",
              "      <td>0.317124</td>\n",
              "      <td>-1.390871</td>\n",
              "      <td>1.042627</td>\n",
              "      <td>2.859139</td>\n",
              "      <td>-0.749622</td>\n",
              "      <td>-1.709098</td>\n",
              "      <td>-0.144785</td>\n",
              "    </tr>\n",
              "    <tr>\n",
              "      <th>...</th>\n",
              "      <td>...</td>\n",
              "      <td>...</td>\n",
              "      <td>...</td>\n",
              "      <td>...</td>\n",
              "      <td>...</td>\n",
              "      <td>...</td>\n",
              "      <td>...</td>\n",
              "      <td>...</td>\n",
              "      <td>...</td>\n",
              "      <td>...</td>\n",
              "      <td>...</td>\n",
              "      <td>...</td>\n",
              "      <td>...</td>\n",
              "      <td>...</td>\n",
              "      <td>...</td>\n",
              "      <td>...</td>\n",
              "      <td>...</td>\n",
              "      <td>...</td>\n",
              "      <td>...</td>\n",
              "      <td>...</td>\n",
              "      <td>...</td>\n",
              "    </tr>\n",
              "    <tr>\n",
              "      <th>2633</th>\n",
              "      <td>11.572065</td>\n",
              "      <td>-0.376104</td>\n",
              "      <td>0.526794</td>\n",
              "      <td>-0.798357</td>\n",
              "      <td>-0.422798</td>\n",
              "      <td>-2.243456</td>\n",
              "      <td>2.225430</td>\n",
              "      <td>-2.113229</td>\n",
              "      <td>-0.201485</td>\n",
              "      <td>0.489201</td>\n",
              "      <td>...</td>\n",
              "      <td>0.889351</td>\n",
              "      <td>0.274837</td>\n",
              "      <td>0.816225</td>\n",
              "      <td>-0.134032</td>\n",
              "      <td>0.260464</td>\n",
              "      <td>0.729112</td>\n",
              "      <td>0.251714</td>\n",
              "      <td>0.741135</td>\n",
              "      <td>0.558236</td>\n",
              "      <td>0.907352</td>\n",
              "    </tr>\n",
              "    <tr>\n",
              "      <th>2634</th>\n",
              "      <td>-1.285607</td>\n",
              "      <td>-2.378037</td>\n",
              "      <td>2.955052</td>\n",
              "      <td>-1.237183</td>\n",
              "      <td>0.709693</td>\n",
              "      <td>0.870953</td>\n",
              "      <td>0.447295</td>\n",
              "      <td>0.270915</td>\n",
              "      <td>-0.818156</td>\n",
              "      <td>1.637888</td>\n",
              "      <td>...</td>\n",
              "      <td>-0.203029</td>\n",
              "      <td>-3.253886</td>\n",
              "      <td>-0.114188</td>\n",
              "      <td>0.164444</td>\n",
              "      <td>0.977267</td>\n",
              "      <td>0.928396</td>\n",
              "      <td>-0.812150</td>\n",
              "      <td>1.628651</td>\n",
              "      <td>-1.833242</td>\n",
              "      <td>-0.876227</td>\n",
              "    </tr>\n",
              "    <tr>\n",
              "      <th>2635</th>\n",
              "      <td>-2.888990</td>\n",
              "      <td>-7.058879</td>\n",
              "      <td>5.588694</td>\n",
              "      <td>0.270656</td>\n",
              "      <td>-1.054954</td>\n",
              "      <td>0.251689</td>\n",
              "      <td>-0.024510</td>\n",
              "      <td>-0.177867</td>\n",
              "      <td>-0.660705</td>\n",
              "      <td>-1.028945</td>\n",
              "      <td>...</td>\n",
              "      <td>-0.363300</td>\n",
              "      <td>0.542209</td>\n",
              "      <td>-0.410786</td>\n",
              "      <td>0.463398</td>\n",
              "      <td>1.196365</td>\n",
              "      <td>-1.273019</td>\n",
              "      <td>-2.059074</td>\n",
              "      <td>0.448396</td>\n",
              "      <td>-1.654807</td>\n",
              "      <td>0.536477</td>\n",
              "    </tr>\n",
              "    <tr>\n",
              "      <th>2636</th>\n",
              "      <td>-1.778461</td>\n",
              "      <td>-5.386581</td>\n",
              "      <td>6.251892</td>\n",
              "      <td>1.553993</td>\n",
              "      <td>-0.238298</td>\n",
              "      <td>-0.999253</td>\n",
              "      <td>-0.331191</td>\n",
              "      <td>0.932077</td>\n",
              "      <td>-2.529190</td>\n",
              "      <td>1.358034</td>\n",
              "      <td>...</td>\n",
              "      <td>0.418373</td>\n",
              "      <td>0.229496</td>\n",
              "      <td>-1.004082</td>\n",
              "      <td>1.395435</td>\n",
              "      <td>-0.324278</td>\n",
              "      <td>1.546524</td>\n",
              "      <td>-0.000483</td>\n",
              "      <td>-0.768453</td>\n",
              "      <td>0.353640</td>\n",
              "      <td>1.829357</td>\n",
              "    </tr>\n",
              "    <tr>\n",
              "      <th>2637</th>\n",
              "      <td>-2.960581</td>\n",
              "      <td>-1.322451</td>\n",
              "      <td>-2.487020</td>\n",
              "      <td>-0.637624</td>\n",
              "      <td>-0.928641</td>\n",
              "      <td>1.058780</td>\n",
              "      <td>-0.369478</td>\n",
              "      <td>-0.588152</td>\n",
              "      <td>0.489115</td>\n",
              "      <td>-1.339779</td>\n",
              "      <td>...</td>\n",
              "      <td>0.223809</td>\n",
              "      <td>0.994232</td>\n",
              "      <td>0.324490</td>\n",
              "      <td>2.237903</td>\n",
              "      <td>-0.981265</td>\n",
              "      <td>1.431591</td>\n",
              "      <td>-1.282164</td>\n",
              "      <td>-1.640025</td>\n",
              "      <td>-0.722300</td>\n",
              "      <td>1.173895</td>\n",
              "    </tr>\n",
              "  </tbody>\n",
              "</table>\n",
              "<p>2638 rows × 50 columns</p>\n",
              "</div>\n",
              "      <button class=\"colab-df-convert\" onclick=\"convertToInteractive('df-cae303ea-bdf1-425a-902c-dae2f8b6fe33')\"\n",
              "              title=\"Convert this dataframe to an interactive table.\"\n",
              "              style=\"display:none;\">\n",
              "        \n",
              "  <svg xmlns=\"http://www.w3.org/2000/svg\" height=\"24px\"viewBox=\"0 0 24 24\"\n",
              "       width=\"24px\">\n",
              "    <path d=\"M0 0h24v24H0V0z\" fill=\"none\"/>\n",
              "    <path d=\"M18.56 5.44l.94 2.06.94-2.06 2.06-.94-2.06-.94-.94-2.06-.94 2.06-2.06.94zm-11 1L8.5 8.5l.94-2.06 2.06-.94-2.06-.94L8.5 2.5l-.94 2.06-2.06.94zm10 10l.94 2.06.94-2.06 2.06-.94-2.06-.94-.94-2.06-.94 2.06-2.06.94z\"/><path d=\"M17.41 7.96l-1.37-1.37c-.4-.4-.92-.59-1.43-.59-.52 0-1.04.2-1.43.59L10.3 9.45l-7.72 7.72c-.78.78-.78 2.05 0 2.83L4 21.41c.39.39.9.59 1.41.59.51 0 1.02-.2 1.41-.59l7.78-7.78 2.81-2.81c.8-.78.8-2.07 0-2.86zM5.41 20L4 18.59l7.72-7.72 1.47 1.35L5.41 20z\"/>\n",
              "  </svg>\n",
              "      </button>\n",
              "      \n",
              "  <style>\n",
              "    .colab-df-container {\n",
              "      display:flex;\n",
              "      flex-wrap:wrap;\n",
              "      gap: 12px;\n",
              "    }\n",
              "\n",
              "    .colab-df-convert {\n",
              "      background-color: #E8F0FE;\n",
              "      border: none;\n",
              "      border-radius: 50%;\n",
              "      cursor: pointer;\n",
              "      display: none;\n",
              "      fill: #1967D2;\n",
              "      height: 32px;\n",
              "      padding: 0 0 0 0;\n",
              "      width: 32px;\n",
              "    }\n",
              "\n",
              "    .colab-df-convert:hover {\n",
              "      background-color: #E2EBFA;\n",
              "      box-shadow: 0px 1px 2px rgba(60, 64, 67, 0.3), 0px 1px 3px 1px rgba(60, 64, 67, 0.15);\n",
              "      fill: #174EA6;\n",
              "    }\n",
              "\n",
              "    [theme=dark] .colab-df-convert {\n",
              "      background-color: #3B4455;\n",
              "      fill: #D2E3FC;\n",
              "    }\n",
              "\n",
              "    [theme=dark] .colab-df-convert:hover {\n",
              "      background-color: #434B5C;\n",
              "      box-shadow: 0px 1px 3px 1px rgba(0, 0, 0, 0.15);\n",
              "      filter: drop-shadow(0px 1px 2px rgba(0, 0, 0, 0.3));\n",
              "      fill: #FFFFFF;\n",
              "    }\n",
              "  </style>\n",
              "\n",
              "      <script>\n",
              "        const buttonEl =\n",
              "          document.querySelector('#df-cae303ea-bdf1-425a-902c-dae2f8b6fe33 button.colab-df-convert');\n",
              "        buttonEl.style.display =\n",
              "          google.colab.kernel.accessAllowed ? 'block' : 'none';\n",
              "\n",
              "        async function convertToInteractive(key) {\n",
              "          const element = document.querySelector('#df-cae303ea-bdf1-425a-902c-dae2f8b6fe33');\n",
              "          const dataTable =\n",
              "            await google.colab.kernel.invokeFunction('convertToInteractive',\n",
              "                                                     [key], {});\n",
              "          if (!dataTable) return;\n",
              "\n",
              "          const docLinkHtml = 'Like what you see? Visit the ' +\n",
              "            '<a target=\"_blank\" href=https://colab.research.google.com/notebooks/data_table.ipynb>data table notebook</a>'\n",
              "            + ' to learn more about interactive tables.';\n",
              "          element.innerHTML = '';\n",
              "          dataTable['output_type'] = 'display_data';\n",
              "          await google.colab.output.renderOutput(dataTable, element);\n",
              "          const docLink = document.createElement('div');\n",
              "          docLink.innerHTML = docLinkHtml;\n",
              "          element.appendChild(docLink);\n",
              "        }\n",
              "      </script>\n",
              "    </div>\n",
              "  </div>\n",
              "  "
            ]
          },
          "metadata": {},
          "execution_count": 10
        }
      ]
    },
    {
      "cell_type": "markdown",
      "source": [
        "Now that we have run PCA on our transformed data, we can visualize the output of the PCA by plotting the 1st principal component on the x-axis and the 2nd principal component on the y-axis. Given the documentation of the [PCA function](https://scikit-learn.org/stable/modules/generated/sklearn.decomposition.PCA.html) and the [scatter function](https://matplotlib.org/3.1.1/api/_as_gen/matplotlib.pyplot.scatter.html), determine the correct x- and y- inputs for the scatter plot indicated by ???."
      ],
      "metadata": {
        "id": "_g3jbovI1xfl"
      }
    },
    {
      "cell_type": "code",
      "source": [
        "#Plot PC output from PCA\n",
        "import matplotlib.pyplot as plt\n",
        "plt.scatter(A_pca[:, 0] , A_pca[:, 1] , alpha=0.2)\n",
        "plt.title('PCA figure')\n",
        "plt.xlabel('PC1')\n",
        "plt.ylabel('PC2') "
      ],
      "metadata": {
        "id": "0GrPvsaT24Hx",
        "colab": {
          "base_uri": "https://localhost:8080/",
          "height": 357
        },
        "outputId": "b5055032-8e78-4cf3-d082-edd8bd2b9f65"
      },
      "execution_count": null,
      "outputs": [
        {
          "output_type": "execute_result",
          "data": {
            "text/plain": [
              "Text(0, 0.5, 'PC2')"
            ]
          },
          "metadata": {},
          "execution_count": 13
        },
        {
          "output_type": "display_data",
          "data": {
            "text/plain": [
              "<Figure size 1080x360 with 1 Axes>"
            ],
            "image/png": "[encoded data removed]"
          },
          "metadata": {
            "needs_background": "light"
          }
        }
      ]
    },
    {
      "cell_type": "markdown",
      "source": [
        "### 2b-2. Dimensionality Reduction with UMAP"
      ],
      "metadata": {
        "id": "jL5njwkI492b"
      }
    },
    {
      "cell_type": "code",
      "source": [
        "#UMAP Dimensionality Reduction\n",
        "!pip install umap-learn[plot]\n",
        "!pip install holoviews\n",
        "!pip install -U ipykernel\n",
        "\n",
        "import umap\n",
        "reducer = umap.UMAP()\n",
        "reducer.fit(A_log)\n",
        "A_UMAP = reducer.transform(A_log)\n",
        "assert(np.all(A_UMAP == reducer.embedding_))\n"
      ],
      "metadata": {
        "id": "Pd6wU0FXkuIb"
      },
      "execution_count": null,
      "outputs": []
    },
    {
      "cell_type": "markdown",
      "source": [
        "Now that we have run UMAP dimensionality reduction on our transformed data, we can visualize its output by plotting the first two dimensions of its projection on the x- and y-axis of our plot, respectively. Given the Python indexing logic applied for your previous plotting exercise, and the documentation of the [UMAP function](https://umap-learn.readthedocs.io/en/latest/plotting.html) and the [scatter function](https://matplotlib.org/3.1.1/api/_as_gen/matplotlib.pyplot.scatter.html), determine the correct x- and y- inputs for the scatter plot indicated by ???."
      ],
      "metadata": {
        "id": "y78auqiM7q2e"
      }
    },
    {
      "cell_type": "code",
      "source": [
        "#Plot 2D UMAP projection\n",
        "plt.scatter( ??? , ??? , cmap='Spectral', s=5)\n",
        "plt.gca().set_aspect('equal', 'datalim')\n",
        "plt.title('UMAP projection of the PBMC dataset', fontsize=24);\n",
        "plt.xlabel('UMAP1')\n",
        "plt.ylabel('UMAP2')"
      ],
      "metadata": {
        "id": "g_9sbEDPCSVN"
      },
      "execution_count": null,
      "outputs": []
    },
    {
      "cell_type": "markdown",
      "source": [
        "\n",
        "### 2c. Using k-Means to Cluster Cells\n",
        "\n",
        "Finally, let's run a [k-means](https://scikit-learn.org/stable/modules/generated/sklearn.cluster.KMeans.html) clustering method to group the observations into clusters based on their gene expression profiles.\n",
        "\n",
        "First, define how many clusters we should group this data into. Hint: How many PBMC cell types are there?"
      ],
      "metadata": {
        "id": "gq3uQohUA9-H"
      }
    },
    {
      "cell_type": "code",
      "source": [
        "#Using Kmeans clustering to group cells into clusters\n",
        "from sklearn.cluster import KMeans\n",
        "kmeans = KMeans(n_clusters= ??? , max_iter=10000)\n",
        "kmeans.fit(A_pca)\n",
        "cluster_labels = kmeans.predict(A_pca)"
      ],
      "metadata": {
        "id": "Ec-b6Wa1D4Ts"
      },
      "execution_count": null,
      "outputs": []
    },
    {
      "cell_type": "markdown",
      "source": [
        "Now that we have given every cell in our dataset a cluster assignment, we can overlay them onto the positions of our cells on the UMAP scatter plot you generated previously. \n",
        "\n",
        "*Note that the missing portion of code in the line plt.scatter(???, ???, c=cluster_labels, cmap='viridis', alpha=0.5) should match the x- and y- axis of your completed 2D UMAP projection plot.*"
      ],
      "metadata": {
        "id": "2bn_EyQQCWnV"
      }
    },
    {
      "cell_type": "code",
      "source": [
        "#Overlaying cluster identity to cell position on UMAP plot\n",
        "plt.scatter( ??? , ??? , c=cluster_labels, cmap='viridis', alpha=0.5)\n",
        "plt.colorbar(boundaries=np.arange(7)-0.5,cmap='viridis', alpha=0.5).set_ticks(np.arange(6))\n",
        "plt.title('UMAP figure with clusters')\n",
        "plt.xlabel('UMAP1')\n",
        "plt.ylabel('UMAP2')"
      ],
      "metadata": {
        "id": "105nx0rsCRjb",
        "colab": {
          "base_uri": "https://localhost:8080/",
          "height": 380
        },
        "outputId": "22d23390-f5dd-4644-ba80-cdf2662938e7"
      },
      "execution_count": null,
      "outputs": [
        {
          "output_type": "execute_result",
          "data": {
            "text/plain": [
              "Text(0, 0.5, 'UMAP2')"
            ]
          },
          "metadata": {},
          "execution_count": 43
        },
        {
          "output_type": "display_data",
          "data": {
            "text/plain": [
              "<Figure size 1080x360 with 2 Axes>"
            ],
            "image/png": "[encoded data removed]"
          },
          "metadata": {
            "needs_background": "light"
          }
        }
      ]
    },
    {
      "cell_type": "markdown",
      "source": [
        "### 2d. Find Highly Expressed Genes Within Clusters"
      ],
      "metadata": {
        "id": "AdEj2jmjEOxU"
      }
    },
    {
      "cell_type": "code",
      "source": [
        "#@title Run Me! Most Highly Expressed Genes per Cluster Function: top_genes\n",
        "#Finding highly expressed genes within clusters\n",
        "def top_genes(cluster_num, sig_thresh):\n",
        "  for i in range(cluster_num):\n",
        "    #cluster indices\n",
        "    sample_indices = np.where(cluster_labels == i)\n",
        "    sample_values = A_log.iloc[sample_indices]\n",
        "\n",
        "    #Find most highly expressed gene for each sample in cluster\n",
        "    sample_values['Max'] = sample_values.idxmax(axis=1)\n",
        "    values, counts = np.unique(sample_values['Max'], return_counts=True)\n",
        "    indexes = [\n",
        "      index for index in range(len(counts))\n",
        "      if counts[index] > sig_thresh \n",
        "    ]\n",
        "    cluster_gene_list=values[indexes]\n",
        "    print(\"Cluster \" + str(i) + \" gene list:\", cluster_gene_list)\n"
      ],
      "metadata": {
        "id": "wFMfjm7hGnSd"
      },
      "execution_count": null,
      "outputs": []
    },
    {
      "cell_type": "markdown",
      "source": [
        "Above we have a function, top_genes, that acts to identify the most highly expressed genes within a range of clusters in your dataset.\n",
        "\n",
        "The function top_genes has two parameters for which it takes arguments, cluster_num and sig_thresh. Cluster_num defines the range of clusters you would like to run the function for in your dataset. Sig_thresh defines the threshold of how significant the identified \"most highly expressed gene\" list is. \n",
        "\n",
        "Try applying a variety of integer value arguments for these parameters, and see the effect it has on the resulting gene list for each cluster. How does changing this impact the length of the list and what clusters it is applied to? Why do you think this is the case?"
      ],
      "metadata": {
        "id": "FFHOxXp6rT9A"
      }
    },
    {
      "cell_type": "code",
      "source": [
        "#Change the argument values for this function!\n",
        "top_genes( ??? , ??? )"
      ],
      "metadata": {
        "id": "dQ67C2zsuTwt",
        "colab": {
          "base_uri": "https://localhost:8080/"
        },
        "outputId": "97a74f18-d3ab-4668-dfeb-5d3c3e580c33"
      },
      "execution_count": null,
      "outputs": [
        {
          "output_type": "stream",
          "name": "stderr",
          "text": [
            "<ipython-input-44-ed1879bab660>:10: SettingWithCopyWarning: \n",
            "A value is trying to be set on a copy of a slice from a DataFrame.\n",
            "Try using .loc[row_indexer,col_indexer] = value instead\n",
            "\n",
            "See the caveats in the documentation: https://pandas.pydata.org/pandas-docs/stable/user_guide/indexing.html#returning-a-view-versus-a-copy\n",
            "  sample_values['Max'] = sample_values.idxmax(axis=1)\n"
          ]
        },
        {
          "output_type": "stream",
          "name": "stdout",
          "text": [
            "Cluster 0 gene list: ['CCL5' 'GNLY' 'GZMK' 'IL32' 'LTB' 'NKG7']\n",
            "Cluster 1 gene list: ['AIF1' 'COTL1' 'CST3' 'FCER1G' 'HLA-DPB1' 'HLA-DRB1' 'LST1' 'S100A6'\n",
            " 'SAT1' 'TYROBP']\n",
            "Cluster 2 gene list: ['CCL5' 'CD48' 'GIMAP4' 'GIMAP7' 'HINT1' 'IL32' 'LIMD2' 'LTB' 'PNRC1'\n",
            " 'PPBP' 'PTPRCAP' 'RBM3' 'S100A6' 'SELL' 'SRSF5' 'TRAF3IP3' 'UBB']\n",
            "Cluster 3 gene list: ['CD37' 'CD79A' 'HLA-DPA1' 'HLA-DPB1' 'HLA-DRB1' 'IGLL5' 'LTB']\n",
            "Cluster 4 gene list: ['GNLY' 'NKG7']\n",
            "Cluster 5 gene list: ['CST3' 'LGALS1' 'S100A6' 'S100A8' 'TYROBP']\n"
          ]
        }
      ]
    },
    {
      "cell_type": "markdown",
      "source": [
        "### 2e. Visualize Gene Expression within Dataset\n",
        "\n",
        "Now that you have identified a list of highly expressed genes per cluster, lets visualize their expression throughout the dataset. Modify the portion of the code indicated by ??? with a gene name from your lists, and see where it is expressed on the UMAP plot. Does its expression correspond with the region of the cluster it was found to be most highly expressed in?\n",
        "\n",
        "*Note that the missing x- and y- axis components of code in the line plt.scatter(???, ???, c=cluster_labels, c=list(A_log[ ??? ]), cmap='Blues') should match the x- and y- axis of your completed 2D UMAP projection plot.*"
      ],
      "metadata": {
        "id": "z8wS5YK5uum0"
      }
    },
    {
      "cell_type": "code",
      "source": [
        "#Visualizing gene expression between clusters\n",
        "plt.scatter( ??? , ??? , c=list(A_log[\"NKG7\" ]), cmap='Blues') \n",
        "plt.colorbar(boundaries=np.arange(7)-0.5, alpha=0.5).set_ticks(np.arange(6))\n",
        "plt.title('Gene Expression UMAP ')\n",
        "plt.xlabel('UMAP1')\n",
        "plt.ylabel('UMAP2')"
      ],
      "metadata": {
        "id": "dmGub5NMHvqA",
        "colab": {
          "base_uri": "https://localhost:8080/",
          "height": 380
        },
        "outputId": "d85c5db8-5e74-4440-a327-bd3da94498b6"
      },
      "execution_count": null,
      "outputs": [
        {
          "output_type": "execute_result",
          "data": {
            "text/plain": [
              "Text(0, 0.5, 'UMAP2')"
            ]
          },
          "metadata": {},
          "execution_count": 48
        },
        {
          "output_type": "display_data",
          "data": {
            "text/plain": [
              "<Figure size 1080x360 with 2 Axes>"
            ],
            "image/png": "[encoded data removed]"
          },
          "metadata": {
            "needs_background": "light"
          }
        }
      ]
    },
    {
      "cell_type": "markdown",
      "source": [
        "**Bonus:** Look up the function of some of the genes found to be most highly expressed in particular clusters. Based on this, can you identify which PBMC cell type the cluster corresponds to? "
      ],
      "metadata": {
        "id": "59aFO2rVvnfe"
      }
    }
  ]
}